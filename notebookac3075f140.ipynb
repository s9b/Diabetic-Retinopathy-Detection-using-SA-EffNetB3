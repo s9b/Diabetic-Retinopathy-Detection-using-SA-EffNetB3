{
 "cells": [
  {
   "cell_type": "code",
   "execution_count": 2,
   "metadata": {
    "execution": {
     "iopub.execute_input": "2025-04-14T06:46:22.566356Z",
     "iopub.status.busy": "2025-04-14T06:46:22.565674Z",
     "iopub.status.idle": "2025-04-14T06:46:25.816192Z",
     "shell.execute_reply": "2025-04-14T06:46:25.815435Z",
     "shell.execute_reply.started": "2025-04-14T06:46:22.566327Z"
    },
    "trusted": true
   },
   "outputs": [
    {
     "name": "stdout",
     "output_type": "stream",
     "text": [
      "Requirement already satisfied: scikit-learn==1.3.2 in /usr/local/lib/python3.11/dist-packages (1.3.2)\n",
      "Requirement already satisfied: imbalanced-learn==0.11.0 in /usr/local/lib/python3.11/dist-packages (0.11.0)\n",
      "Requirement already satisfied: numpy<2.0,>=1.17.3 in /usr/local/lib/python3.11/dist-packages (from scikit-learn==1.3.2) (1.26.4)\n",
      "Requirement already satisfied: scipy>=1.5.0 in /usr/local/lib/python3.11/dist-packages (from scikit-learn==1.3.2) (1.15.2)\n",
      "Requirement already satisfied: joblib>=1.1.1 in /usr/local/lib/python3.11/dist-packages (from scikit-learn==1.3.2) (1.4.2)\n",
      "Requirement already satisfied: threadpoolctl>=2.0.0 in /usr/local/lib/python3.11/dist-packages (from scikit-learn==1.3.2) (3.6.0)\n",
      "Requirement already satisfied: mkl_fft in /usr/local/lib/python3.11/dist-packages (from numpy<2.0,>=1.17.3->scikit-learn==1.3.2) (1.3.8)\n",
      "Requirement already satisfied: mkl_random in /usr/local/lib/python3.11/dist-packages (from numpy<2.0,>=1.17.3->scikit-learn==1.3.2) (1.2.4)\n",
      "Requirement already satisfied: mkl_umath in /usr/local/lib/python3.11/dist-packages (from numpy<2.0,>=1.17.3->scikit-learn==1.3.2) (0.1.1)\n",
      "Requirement already satisfied: mkl in /usr/local/lib/python3.11/dist-packages (from numpy<2.0,>=1.17.3->scikit-learn==1.3.2) (2025.1.0)\n",
      "Requirement already satisfied: tbb4py in /usr/local/lib/python3.11/dist-packages (from numpy<2.0,>=1.17.3->scikit-learn==1.3.2) (2022.1.0)\n",
      "Requirement already satisfied: mkl-service in /usr/local/lib/python3.11/dist-packages (from numpy<2.0,>=1.17.3->scikit-learn==1.3.2) (2.4.1)\n",
      "Requirement already satisfied: intel-openmp<2026,>=2024 in /usr/local/lib/python3.11/dist-packages (from mkl->numpy<2.0,>=1.17.3->scikit-learn==1.3.2) (2024.2.0)\n",
      "Requirement already satisfied: tbb==2022.* in /usr/local/lib/python3.11/dist-packages (from mkl->numpy<2.0,>=1.17.3->scikit-learn==1.3.2) (2022.1.0)\n",
      "Requirement already satisfied: tcmlib==1.* in /usr/local/lib/python3.11/dist-packages (from tbb==2022.*->mkl->numpy<2.0,>=1.17.3->scikit-learn==1.3.2) (1.2.0)\n",
      "Requirement already satisfied: intel-cmplr-lib-rt in /usr/local/lib/python3.11/dist-packages (from mkl_umath->numpy<2.0,>=1.17.3->scikit-learn==1.3.2) (2024.2.0)\n",
      "Requirement already satisfied: intel-cmplr-lib-ur==2024.2.0 in /usr/local/lib/python3.11/dist-packages (from intel-openmp<2026,>=2024->mkl->numpy<2.0,>=1.17.3->scikit-learn==1.3.2) (2024.2.0)\n"
     ]
    }
   ],
   "source": [
    "!pip install --upgrade scikit-learn==1.3.2 imbalanced-learn==0.11.0\n"
   ]
  },
  {
   "cell_type": "code",
   "execution_count": 4,
   "metadata": {
    "execution": {
     "iopub.execute_input": "2025-04-14T06:47:18.846615Z",
     "iopub.status.busy": "2025-04-14T06:47:18.846357Z",
     "iopub.status.idle": "2025-04-14T06:47:22.240221Z",
     "shell.execute_reply": "2025-04-14T06:47:22.239625Z",
     "shell.execute_reply.started": "2025-04-14T06:47:18.846597Z"
    },
    "trusted": true
   },
   "outputs": [
    {
     "name": "stderr",
     "output_type": "stream",
     "text": [
      "2025-04-14 06:47:19.659875: E external/local_xla/xla/stream_executor/cuda/cuda_fft.cc:477] Unable to register cuFFT factory: Attempting to register factory for plugin cuFFT when one has already been registered\n",
      "WARNING: All log messages before absl::InitializeLog() is called are written to STDERR\n",
      "E0000 00:00:1744613239.683253     764 cuda_dnn.cc:8310] Unable to register cuDNN factory: Attempting to register factory for plugin cuDNN when one has already been registered\n",
      "E0000 00:00:1744613239.690238     764 cuda_blas.cc:1418] Unable to register cuBLAS factory: Attempting to register factory for plugin cuBLAS when one has already been registered\n"
     ]
    }
   ],
   "source": [
    "# ✅ STEP 1: Import Required Libraries\n",
    "import os\n",
    "import pandas as pd\n",
    "import numpy as np\n",
    "import matplotlib.pyplot as plt\n",
    "import seaborn as sns\n",
    "import tensorflow as tf\n",
    "from sklearn.model_selection import train_test_split\n",
    "from sklearn.metrics import classification_report, confusion_matrix\n",
    "from sklearn.utils.class_weight import compute_class_weight\n",
    "from tensorflow.keras.preprocessing.image import ImageDataGenerator\n",
    "from tensorflow.keras.models import Model\n",
    "from tensorflow.keras.layers import Input, Dense, Dropout, GlobalAveragePooling2D, Multiply, Conv2D, Concatenate, Layer\n",
    "from tensorflow.keras.optimizers import Adam\n",
    "from tensorflow.keras.callbacks import EarlyStopping, ReduceLROnPlateau\n",
    "from tensorflow.keras.applications import EfficientNetB3\n",
    "# Alternative to keras_focal_loss\n",
    "# Simple fallback loss function due to compatibility issues\n",
    "from tensorflow.keras.losses import CategoricalCrossentropy"
   ]
  },
  {
   "cell_type": "code",
   "execution_count": null,
   "metadata": {
    "execution": {
     "iopub.execute_input": "2025-04-14T06:51:30.844553Z",
     "iopub.status.busy": "2025-04-14T06:51:30.843804Z",
     "iopub.status.idle": "2025-04-14T06:51:30.867360Z",
     "shell.execute_reply": "2025-04-14T06:51:30.866467Z",
     "shell.execute_reply.started": "2025-04-14T06:51:30.844521Z"
    },
    "trusted": true
   },
   "outputs": [
    {
     "name": "stdout",
     "output_type": "stream",
     "text": [
      "Loaded dataset with shape: (1744, 4)\n",
      "Class distribution:\n",
      " dr_grade\n",
      "0    1017\n",
      "2     347\n",
      "1     270\n",
      "3      75\n",
      "4      35\n",
      "Name: count, dtype: int64\n"
     ]
    }
   ],
   "source": [
    "# ✅ STEP 2: Load CSV Data\n",
    "csv_path = '/kaggle/input/model2/messidor_data.csv'  \n",
    "df = pd.read_csv(csv_path)\n",
    "df = df.rename(columns={'id_code': 'image_path', 'diagnosis': 'dr_grade'})\n",
    "df['dr_grade'] = df['dr_grade'].astype(str)\n",
    "\n",
    "print(\"Loaded dataset with shape:\", df.shape)\n",
    "print(\"Class distribution:\\n\", df['dr_grade'].value_counts())\n",
    "\n",
    "# ✅ STEP 3: Apply Oversampling\n",
    "# Optional: Uncomment the next line and install imblearn in your environment if not already installed\n",
    "#!pip install imbalanced-learn\n",
    "# ✅ STEP 3: Apply Oversampling\n",
    "# Optional: Uncomment the next line and install imblearn in your environment if not already installed\n",
    "# !pip install imbalanced-learn\n",
    "from imblearn.over_sampling import RandomOverSampler\n",
    "ros = RandomOverSampler()\n",
    "df_balanced, y_balanced = ros.fit_resample(df[['image_path']], df['dr_grade'])\n",
    "df_balanced['dr_grade'] = y_balanced.astype(str)\n",
    "df_balanced['dr_grade'] = df_balanced['dr_grade'].astype(str)"
   ]
  },
  {
   "cell_type": "code",
   "execution_count": 8,
   "metadata": {
    "execution": {
     "iopub.execute_input": "2025-04-14T06:52:19.823687Z",
     "iopub.status.busy": "2025-04-14T06:52:19.822821Z",
     "iopub.status.idle": "2025-04-14T06:52:22.665260Z",
     "shell.execute_reply": "2025-04-14T06:52:22.664495Z",
     "shell.execute_reply.started": "2025-04-14T06:52:19.823650Z"
    },
    "trusted": true
   },
   "outputs": [
    {
     "name": "stdout",
     "output_type": "stream",
     "text": [
      "Found 4068 validated image filenames belonging to 5 classes.\n",
      "Found 1017 validated image filenames belonging to 5 classes.\n"
     ]
    }
   ],
   "source": [
    "# ✅ STEP 4: Prepare Train and Validation Sets\n",
    "train_df, val_df = train_test_split(df_balanced, stratify=df_balanced['dr_grade'], test_size=0.2, random_state=42)\n",
    "\n",
    "# ✅ STEP 5: Image Data Generators\n",
    "IMG_SIZE = 300\n",
    "BATCH_SIZE = 32\n",
    "\n",
    "train_gen = ImageDataGenerator(\n",
    "    rescale=1./255,\n",
    "    rotation_range=25,\n",
    "    zoom_range=0.3,\n",
    "    width_shift_range=0.15,\n",
    "    height_shift_range=0.15,\n",
    "    brightness_range=[0.6, 1.4],\n",
    "    horizontal_flip=True,\n",
    "    vertical_flip=True,\n",
    "    shear_range=0.1,\n",
    "    fill_mode='nearest'\n",
    ")\n",
    "\n",
    "val_gen = ImageDataGenerator(rescale=1./255)\n",
    "\n",
    "image_dir = os.path.join(os.getcwd(), '/kaggle/input/model2/messidor-2/messidor-2/preprocess')  # 🔁 Replace with full path to your image directory if needed\n",
    "\n",
    "train_data = train_gen.flow_from_dataframe(\n",
    "    dataframe=train_df,\n",
    "    directory=image_dir,\n",
    "    x_col='image_path',\n",
    "    y_col='dr_grade',\n",
    "    target_size=(IMG_SIZE, IMG_SIZE),\n",
    "    batch_size=BATCH_SIZE,\n",
    "    class_mode='categorical'\n",
    ")\n",
    "\n",
    "val_data = val_gen.flow_from_dataframe(\n",
    "    dataframe=val_df,\n",
    "    directory=image_dir,\n",
    "    x_col='image_path',\n",
    "    y_col='dr_grade',\n",
    "    target_size=(IMG_SIZE, IMG_SIZE),\n",
    "    batch_size=BATCH_SIZE,\n",
    "    class_mode='categorical',\n",
    "    shuffle=False\n",
    ")"
   ]
  },
  {
   "cell_type": "code",
   "execution_count": 9,
   "metadata": {
    "execution": {
     "iopub.execute_input": "2025-04-14T06:52:54.505352Z",
     "iopub.status.busy": "2025-04-14T06:52:54.504620Z",
     "iopub.status.idle": "2025-04-14T06:52:58.149082Z",
     "shell.execute_reply": "2025-04-14T06:52:58.148369Z",
     "shell.execute_reply.started": "2025-04-14T06:52:54.505326Z"
    },
    "trusted": true
   },
   "outputs": [
    {
     "name": "stderr",
     "output_type": "stream",
     "text": [
      "I0000 00:00:1744613574.904913     764 gpu_device.cc:2022] Created device /job:localhost/replica:0/task:0/device:GPU:0 with 13942 MB memory:  -> device: 0, name: Tesla T4, pci bus id: 0000:00:04.0, compute capability: 7.5\n",
      "I0000 00:00:1744613574.905612     764 gpu_device.cc:2022] Created device /job:localhost/replica:0/task:0/device:GPU:1 with 13942 MB memory:  -> device: 1, name: Tesla T4, pci bus id: 0000:00:05.0, compute capability: 7.5\n"
     ]
    },
    {
     "name": "stdout",
     "output_type": "stream",
     "text": [
      "Downloading data from https://storage.googleapis.com/keras-applications/efficientnetb3_notop.h5\n",
      "\u001b[1m43941136/43941136\u001b[0m \u001b[32m━━━━━━━━━━━━━━━━━━━━\u001b[0m\u001b[37m\u001b[0m \u001b[1m0s\u001b[0m 0us/step\n"
     ]
    },
    {
     "data": {
      "text/html": [
       "<pre style=\"white-space:pre;overflow-x:auto;line-height:normal;font-family:Menlo,'DejaVu Sans Mono',consolas,'Courier New',monospace\"><span style=\"font-weight: bold\">Model: \"functional\"</span>\n",
       "</pre>\n"
      ],
      "text/plain": [
       "\u001b[1mModel: \"functional\"\u001b[0m\n"
      ]
     },
     "metadata": {},
     "output_type": "display_data"
    },
    {
     "data": {
      "text/html": [
       "<pre style=\"white-space:pre;overflow-x:auto;line-height:normal;font-family:Menlo,'DejaVu Sans Mono',consolas,'Courier New',monospace\">┏━━━━━━━━━━━━━━━━━━━━━━━━━━━━━━━━━━━━━━┳━━━━━━━━━━━━━━━━━━━━━━━━━━━━━┳━━━━━━━━━━━━━━━━━┓\n",
       "┃<span style=\"font-weight: bold\"> Layer (type)                         </span>┃<span style=\"font-weight: bold\"> Output Shape                </span>┃<span style=\"font-weight: bold\">         Param # </span>┃\n",
       "┡━━━━━━━━━━━━━━━━━━━━━━━━━━━━━━━━━━━━━━╇━━━━━━━━━━━━━━━━━━━━━━━━━━━━━╇━━━━━━━━━━━━━━━━━┩\n",
       "│ input_layer_1 (<span style=\"color: #0087ff; text-decoration-color: #0087ff\">InputLayer</span>)           │ (<span style=\"color: #00d7ff; text-decoration-color: #00d7ff\">None</span>, <span style=\"color: #00af00; text-decoration-color: #00af00\">300</span>, <span style=\"color: #00af00; text-decoration-color: #00af00\">300</span>, <span style=\"color: #00af00; text-decoration-color: #00af00\">3</span>)         │               <span style=\"color: #00af00; text-decoration-color: #00af00\">0</span> │\n",
       "├──────────────────────────────────────┼─────────────────────────────┼─────────────────┤\n",
       "│ efficientnetb3 (<span style=\"color: #0087ff; text-decoration-color: #0087ff\">Functional</span>)          │ (<span style=\"color: #00d7ff; text-decoration-color: #00d7ff\">None</span>, <span style=\"color: #00af00; text-decoration-color: #00af00\">10</span>, <span style=\"color: #00af00; text-decoration-color: #00af00\">10</span>, <span style=\"color: #00af00; text-decoration-color: #00af00\">1536</span>)        │      <span style=\"color: #00af00; text-decoration-color: #00af00\">10,783,535</span> │\n",
       "├──────────────────────────────────────┼─────────────────────────────┼─────────────────┤\n",
       "│ spatial_attention (<span style=\"color: #0087ff; text-decoration-color: #0087ff\">SpatialAttention</span>) │ (<span style=\"color: #00d7ff; text-decoration-color: #00d7ff\">None</span>, <span style=\"color: #00af00; text-decoration-color: #00af00\">10</span>, <span style=\"color: #00af00; text-decoration-color: #00af00\">10</span>, <span style=\"color: #00af00; text-decoration-color: #00af00\">1536</span>)        │              <span style=\"color: #00af00; text-decoration-color: #00af00\">99</span> │\n",
       "├──────────────────────────────────────┼─────────────────────────────┼─────────────────┤\n",
       "│ global_average_pooling2d             │ (<span style=\"color: #00d7ff; text-decoration-color: #00d7ff\">None</span>, <span style=\"color: #00af00; text-decoration-color: #00af00\">1536</span>)                │               <span style=\"color: #00af00; text-decoration-color: #00af00\">0</span> │\n",
       "│ (<span style=\"color: #0087ff; text-decoration-color: #0087ff\">GlobalAveragePooling2D</span>)             │                             │                 │\n",
       "├──────────────────────────────────────┼─────────────────────────────┼─────────────────┤\n",
       "│ dropout (<span style=\"color: #0087ff; text-decoration-color: #0087ff\">Dropout</span>)                    │ (<span style=\"color: #00d7ff; text-decoration-color: #00d7ff\">None</span>, <span style=\"color: #00af00; text-decoration-color: #00af00\">1536</span>)                │               <span style=\"color: #00af00; text-decoration-color: #00af00\">0</span> │\n",
       "├──────────────────────────────────────┼─────────────────────────────┼─────────────────┤\n",
       "│ dense (<span style=\"color: #0087ff; text-decoration-color: #0087ff\">Dense</span>)                        │ (<span style=\"color: #00d7ff; text-decoration-color: #00d7ff\">None</span>, <span style=\"color: #00af00; text-decoration-color: #00af00\">5</span>)                   │           <span style=\"color: #00af00; text-decoration-color: #00af00\">7,685</span> │\n",
       "└──────────────────────────────────────┴─────────────────────────────┴─────────────────┘\n",
       "</pre>\n"
      ],
      "text/plain": [
       "┏━━━━━━━━━━━━━━━━━━━━━━━━━━━━━━━━━━━━━━┳━━━━━━━━━━━━━━━━━━━━━━━━━━━━━┳━━━━━━━━━━━━━━━━━┓\n",
       "┃\u001b[1m \u001b[0m\u001b[1mLayer (type)                        \u001b[0m\u001b[1m \u001b[0m┃\u001b[1m \u001b[0m\u001b[1mOutput Shape               \u001b[0m\u001b[1m \u001b[0m┃\u001b[1m \u001b[0m\u001b[1m        Param #\u001b[0m\u001b[1m \u001b[0m┃\n",
       "┡━━━━━━━━━━━━━━━━━━━━━━━━━━━━━━━━━━━━━━╇━━━━━━━━━━━━━━━━━━━━━━━━━━━━━╇━━━━━━━━━━━━━━━━━┩\n",
       "│ input_layer_1 (\u001b[38;5;33mInputLayer\u001b[0m)           │ (\u001b[38;5;45mNone\u001b[0m, \u001b[38;5;34m300\u001b[0m, \u001b[38;5;34m300\u001b[0m, \u001b[38;5;34m3\u001b[0m)         │               \u001b[38;5;34m0\u001b[0m │\n",
       "├──────────────────────────────────────┼─────────────────────────────┼─────────────────┤\n",
       "│ efficientnetb3 (\u001b[38;5;33mFunctional\u001b[0m)          │ (\u001b[38;5;45mNone\u001b[0m, \u001b[38;5;34m10\u001b[0m, \u001b[38;5;34m10\u001b[0m, \u001b[38;5;34m1536\u001b[0m)        │      \u001b[38;5;34m10,783,535\u001b[0m │\n",
       "├──────────────────────────────────────┼─────────────────────────────┼─────────────────┤\n",
       "│ spatial_attention (\u001b[38;5;33mSpatialAttention\u001b[0m) │ (\u001b[38;5;45mNone\u001b[0m, \u001b[38;5;34m10\u001b[0m, \u001b[38;5;34m10\u001b[0m, \u001b[38;5;34m1536\u001b[0m)        │              \u001b[38;5;34m99\u001b[0m │\n",
       "├──────────────────────────────────────┼─────────────────────────────┼─────────────────┤\n",
       "│ global_average_pooling2d             │ (\u001b[38;5;45mNone\u001b[0m, \u001b[38;5;34m1536\u001b[0m)                │               \u001b[38;5;34m0\u001b[0m │\n",
       "│ (\u001b[38;5;33mGlobalAveragePooling2D\u001b[0m)             │                             │                 │\n",
       "├──────────────────────────────────────┼─────────────────────────────┼─────────────────┤\n",
       "│ dropout (\u001b[38;5;33mDropout\u001b[0m)                    │ (\u001b[38;5;45mNone\u001b[0m, \u001b[38;5;34m1536\u001b[0m)                │               \u001b[38;5;34m0\u001b[0m │\n",
       "├──────────────────────────────────────┼─────────────────────────────┼─────────────────┤\n",
       "│ dense (\u001b[38;5;33mDense\u001b[0m)                        │ (\u001b[38;5;45mNone\u001b[0m, \u001b[38;5;34m5\u001b[0m)                   │           \u001b[38;5;34m7,685\u001b[0m │\n",
       "└──────────────────────────────────────┴─────────────────────────────┴─────────────────┘\n"
      ]
     },
     "metadata": {},
     "output_type": "display_data"
    },
    {
     "data": {
      "text/html": [
       "<pre style=\"white-space:pre;overflow-x:auto;line-height:normal;font-family:Menlo,'DejaVu Sans Mono',consolas,'Courier New',monospace\"><span style=\"font-weight: bold\"> Total params: </span><span style=\"color: #00af00; text-decoration-color: #00af00\">10,791,319</span> (41.17 MB)\n",
       "</pre>\n"
      ],
      "text/plain": [
       "\u001b[1m Total params: \u001b[0m\u001b[38;5;34m10,791,319\u001b[0m (41.17 MB)\n"
      ]
     },
     "metadata": {},
     "output_type": "display_data"
    },
    {
     "data": {
      "text/html": [
       "<pre style=\"white-space:pre;overflow-x:auto;line-height:normal;font-family:Menlo,'DejaVu Sans Mono',consolas,'Courier New',monospace\"><span style=\"font-weight: bold\"> Trainable params: </span><span style=\"color: #00af00; text-decoration-color: #00af00\">10,704,016</span> (40.83 MB)\n",
       "</pre>\n"
      ],
      "text/plain": [
       "\u001b[1m Trainable params: \u001b[0m\u001b[38;5;34m10,704,016\u001b[0m (40.83 MB)\n"
      ]
     },
     "metadata": {},
     "output_type": "display_data"
    },
    {
     "data": {
      "text/html": [
       "<pre style=\"white-space:pre;overflow-x:auto;line-height:normal;font-family:Menlo,'DejaVu Sans Mono',consolas,'Courier New',monospace\"><span style=\"font-weight: bold\"> Non-trainable params: </span><span style=\"color: #00af00; text-decoration-color: #00af00\">87,303</span> (341.03 KB)\n",
       "</pre>\n"
      ],
      "text/plain": [
       "\u001b[1m Non-trainable params: \u001b[0m\u001b[38;5;34m87,303\u001b[0m (341.03 KB)\n"
      ]
     },
     "metadata": {},
     "output_type": "display_data"
    }
   ],
   "source": [
    "# ✅ STEP 6: Define Spatial Attention Block\n",
    "class SpatialAttention(Layer):\n",
    "    def __init__(self):\n",
    "        super(SpatialAttention, self).__init__()\n",
    "        self.conv = Conv2D(1, kernel_size=7, padding='same', activation='sigmoid')\n",
    "\n",
    "    def call(self, x):\n",
    "        avg_pool = tf.reduce_mean(x, axis=-1, keepdims=True)\n",
    "        max_pool = tf.reduce_max(x, axis=-1, keepdims=True)\n",
    "        concat = Concatenate(axis=-1)([avg_pool, max_pool])\n",
    "        attention = self.conv(concat)\n",
    "        return Multiply()([x, attention])\n",
    "\n",
    "# ✅ STEP 7: Build Model with EfficientNetB3\n",
    "base_model = EfficientNetB3(include_top=False, weights='imagenet', input_shape=(IMG_SIZE, IMG_SIZE, 3))\n",
    "for layer in base_model.layers[-50:]:\n",
    "    layer.trainable = True\n",
    "\n",
    "inputs = Input(shape=(IMG_SIZE, IMG_SIZE, 3))\n",
    "x = base_model(inputs, training=True)\n",
    "x = SpatialAttention()(x)\n",
    "x = GlobalAveragePooling2D()(x)\n",
    "x = Dropout(0.5)(x)\n",
    "outputs = Dense(5, activation='softmax')(x)\n",
    "model = Model(inputs, outputs)\n",
    "\n",
    "model.compile(\n",
    "    optimizer=Adam(learning_rate=0.0003),\n",
    "    loss=CategoricalCrossentropy(label_smoothing=0.1),\n",
    "    metrics=['accuracy']\n",
    ")\n",
    "\n",
    "model.summary()"
   ]
  },
  {
   "cell_type": "markdown",
   "metadata": {},
   "source": []
  },
  {
   "cell_type": "code",
   "execution_count": 10,
   "metadata": {
    "execution": {
     "iopub.execute_input": "2025-04-14T06:53:27.126814Z",
     "iopub.status.busy": "2025-04-14T06:53:27.126235Z",
     "iopub.status.idle": "2025-04-14T08:26:43.760429Z",
     "shell.execute_reply": "2025-04-14T08:26:43.759788Z",
     "shell.execute_reply.started": "2025-04-14T06:53:27.126792Z"
    },
    "trusted": true
   },
   "outputs": [
    {
     "name": "stdout",
     "output_type": "stream",
     "text": [
      "Epoch 1/60\n"
     ]
    },
    {
     "name": "stderr",
     "output_type": "stream",
     "text": [
      "/usr/local/lib/python3.11/dist-packages/keras/src/trainers/data_adapters/py_dataset_adapter.py:122: UserWarning: Your `PyDataset` class should call `super().__init__(**kwargs)` in its constructor. `**kwargs` can include `workers`, `use_multiprocessing`, `max_queue_size`. Do not pass these arguments to `fit()`, as they will be ignored.\n",
      "  self._warn_if_super_not_called()\n",
      "WARNING: All log messages before absl::InitializeLog() is called are written to STDERR\n",
      "I0000 00:00:1744613702.021462     834 service.cc:148] XLA service 0x79ebc0112c90 initialized for platform CUDA (this does not guarantee that XLA will be used). Devices:\n",
      "I0000 00:00:1744613702.021510     834 service.cc:156]   StreamExecutor device (0): Tesla T4, Compute Capability 7.5\n",
      "I0000 00:00:1744613702.021516     834 service.cc:156]   StreamExecutor device (1): Tesla T4, Compute Capability 7.5\n",
      "I0000 00:00:1744613710.028445     834 cuda_dnn.cc:529] Loaded cuDNN version 90300\n",
      "E0000 00:00:1744613729.390307     834 gpu_timer.cc:82] Delay kernel timed out: measured time has sub-optimal accuracy. There may be a missing warmup execution, please investigate in Nsight Systems.\n",
      "E0000 00:00:1744613729.548128     834 gpu_timer.cc:82] Delay kernel timed out: measured time has sub-optimal accuracy. There may be a missing warmup execution, please investigate in Nsight Systems.\n",
      "E0000 00:00:1744613730.132504     834 gpu_timer.cc:82] Delay kernel timed out: measured time has sub-optimal accuracy. There may be a missing warmup execution, please investigate in Nsight Systems.\n",
      "E0000 00:00:1744613730.279167     834 gpu_timer.cc:82] Delay kernel timed out: measured time has sub-optimal accuracy. There may be a missing warmup execution, please investigate in Nsight Systems.\n",
      "E0000 00:00:1744613730.635552     834 gpu_timer.cc:82] Delay kernel timed out: measured time has sub-optimal accuracy. There may be a missing warmup execution, please investigate in Nsight Systems.\n",
      "E0000 00:00:1744613730.782673     834 gpu_timer.cc:82] Delay kernel timed out: measured time has sub-optimal accuracy. There may be a missing warmup execution, please investigate in Nsight Systems.\n",
      "E0000 00:00:1744613731.314364     834 gpu_timer.cc:82] Delay kernel timed out: measured time has sub-optimal accuracy. There may be a missing warmup execution, please investigate in Nsight Systems.\n",
      "E0000 00:00:1744613731.489420     834 gpu_timer.cc:82] Delay kernel timed out: measured time has sub-optimal accuracy. There may be a missing warmup execution, please investigate in Nsight Systems.\n",
      "E0000 00:00:1744613731.658041     834 gpu_timer.cc:82] Delay kernel timed out: measured time has sub-optimal accuracy. There may be a missing warmup execution, please investigate in Nsight Systems.\n",
      "I0000 00:00:1744613764.146483     834 device_compiler.h:188] Compiled cluster using XLA!  This line is logged at most once for the lifetime of the process.\n"
     ]
    },
    {
     "name": "stdout",
     "output_type": "stream",
     "text": [
      "\u001b[1m 27/128\u001b[0m \u001b[32m━━━━\u001b[0m\u001b[37m━━━━━━━━━━━━━━━━\u001b[0m \u001b[1m1:26\u001b[0m 861ms/step - accuracy: 0.2869 - loss: 1.5740"
     ]
    },
    {
     "name": "stderr",
     "output_type": "stream",
     "text": [
      "E0000 00:00:1744613804.475259     836 gpu_timer.cc:82] Delay kernel timed out: measured time has sub-optimal accuracy. There may be a missing warmup execution, please investigate in Nsight Systems.\n",
      "E0000 00:00:1744613804.611198     836 gpu_timer.cc:82] Delay kernel timed out: measured time has sub-optimal accuracy. There may be a missing warmup execution, please investigate in Nsight Systems.\n"
     ]
    },
    {
     "name": "stdout",
     "output_type": "stream",
     "text": [
      "\u001b[1m128/128\u001b[0m \u001b[32m━━━━━━━━━━━━━━━━━━━━\u001b[0m\u001b[37m\u001b[0m \u001b[1m342s\u001b[0m 1s/step - accuracy: 0.4571 - loss: 1.3263 - val_accuracy: 0.2006 - val_loss: 1.6414 - learning_rate: 3.0000e-04\n",
      "Epoch 2/60\n",
      "\u001b[1m128/128\u001b[0m \u001b[32m━━━━━━━━━━━━━━━━━━━━\u001b[0m\u001b[37m\u001b[0m \u001b[1m128s\u001b[0m 953ms/step - accuracy: 0.7048 - loss: 0.9073 - val_accuracy: 0.2006 - val_loss: 1.7747 - learning_rate: 3.0000e-04\n",
      "Epoch 3/60\n",
      "\u001b[1m128/128\u001b[0m \u001b[32m━━━━━━━━━━━━━━━━━━━━\u001b[0m\u001b[37m\u001b[0m \u001b[1m128s\u001b[0m 951ms/step - accuracy: 0.7955 - loss: 0.7791 - val_accuracy: 0.2016 - val_loss: 2.3355 - learning_rate: 3.0000e-04\n",
      "Epoch 4/60\n",
      "\u001b[1m128/128\u001b[0m \u001b[32m━━━━━━━━━━━━━━━━━━━━\u001b[0m\u001b[37m\u001b[0m \u001b[1m127s\u001b[0m 947ms/step - accuracy: 0.8066 - loss: 0.7559 - val_accuracy: 0.2527 - val_loss: 2.3829 - learning_rate: 3.0000e-04\n",
      "Epoch 5/60\n",
      "\u001b[1m128/128\u001b[0m \u001b[32m━━━━━━━━━━━━━━━━━━━━\u001b[0m\u001b[37m\u001b[0m \u001b[1m126s\u001b[0m 940ms/step - accuracy: 0.8520 - loss: 0.6741 - val_accuracy: 0.3451 - val_loss: 1.7581 - learning_rate: 3.0000e-04\n",
      "Epoch 6/60\n",
      "\u001b[1m128/128\u001b[0m \u001b[32m━━━━━━━━━━━━━━━━━━━━\u001b[0m\u001b[37m\u001b[0m \u001b[1m127s\u001b[0m 946ms/step - accuracy: 0.8958 - loss: 0.6100 - val_accuracy: 0.8328 - val_loss: 0.7049 - learning_rate: 9.0000e-05\n",
      "Epoch 7/60\n",
      "\u001b[1m128/128\u001b[0m \u001b[32m━━━━━━━━━━━━━━━━━━━━\u001b[0m\u001b[37m\u001b[0m \u001b[1m128s\u001b[0m 947ms/step - accuracy: 0.9131 - loss: 0.5802 - val_accuracy: 0.8997 - val_loss: 0.5923 - learning_rate: 9.0000e-05\n",
      "Epoch 8/60\n",
      "\u001b[1m128/128\u001b[0m \u001b[32m━━━━━━━━━━━━━━━━━━━━\u001b[0m\u001b[37m\u001b[0m \u001b[1m126s\u001b[0m 939ms/step - accuracy: 0.9288 - loss: 0.5506 - val_accuracy: 0.9076 - val_loss: 0.5750 - learning_rate: 9.0000e-05\n",
      "Epoch 9/60\n",
      "\u001b[1m128/128\u001b[0m \u001b[32m━━━━━━━━━━━━━━━━━━━━\u001b[0m\u001b[37m\u001b[0m \u001b[1m127s\u001b[0m 946ms/step - accuracy: 0.9335 - loss: 0.5315 - val_accuracy: 0.9243 - val_loss: 0.5563 - learning_rate: 9.0000e-05\n",
      "Epoch 10/60\n",
      "\u001b[1m128/128\u001b[0m \u001b[32m━━━━━━━━━━━━━━━━━━━━\u001b[0m\u001b[37m\u001b[0m \u001b[1m127s\u001b[0m 942ms/step - accuracy: 0.9407 - loss: 0.5279 - val_accuracy: 0.9282 - val_loss: 0.5563 - learning_rate: 9.0000e-05\n",
      "Epoch 11/60\n",
      "\u001b[1m128/128\u001b[0m \u001b[32m━━━━━━━━━━━━━━━━━━━━\u001b[0m\u001b[37m\u001b[0m \u001b[1m128s\u001b[0m 951ms/step - accuracy: 0.9424 - loss: 0.5207 - val_accuracy: 0.9361 - val_loss: 0.5317 - learning_rate: 9.0000e-05\n",
      "Epoch 12/60\n",
      "\u001b[1m128/128\u001b[0m \u001b[32m━━━━━━━━━━━━━━━━━━━━\u001b[0m\u001b[37m\u001b[0m \u001b[1m129s\u001b[0m 956ms/step - accuracy: 0.9544 - loss: 0.5019 - val_accuracy: 0.9400 - val_loss: 0.5296 - learning_rate: 9.0000e-05\n",
      "Epoch 13/60\n",
      "\u001b[1m128/128\u001b[0m \u001b[32m━━━━━━━━━━━━━━━━━━━━\u001b[0m\u001b[37m\u001b[0m \u001b[1m129s\u001b[0m 955ms/step - accuracy: 0.9579 - loss: 0.4925 - val_accuracy: 0.9499 - val_loss: 0.5153 - learning_rate: 9.0000e-05\n",
      "Epoch 14/60\n",
      "\u001b[1m128/128\u001b[0m \u001b[32m━━━━━━━━━━━━━━━━━━━━\u001b[0m\u001b[37m\u001b[0m \u001b[1m127s\u001b[0m 940ms/step - accuracy: 0.9616 - loss: 0.4879 - val_accuracy: 0.9263 - val_loss: 0.5649 - learning_rate: 9.0000e-05\n",
      "Epoch 15/60\n",
      "\u001b[1m128/128\u001b[0m \u001b[32m━━━━━━━━━━━━━━━━━━━━\u001b[0m\u001b[37m\u001b[0m \u001b[1m127s\u001b[0m 947ms/step - accuracy: 0.9595 - loss: 0.4921 - val_accuracy: 0.9489 - val_loss: 0.5111 - learning_rate: 9.0000e-05\n",
      "Epoch 16/60\n",
      "\u001b[1m128/128\u001b[0m \u001b[32m━━━━━━━━━━━━━━━━━━━━\u001b[0m\u001b[37m\u001b[0m \u001b[1m127s\u001b[0m 946ms/step - accuracy: 0.9693 - loss: 0.4759 - val_accuracy: 0.9410 - val_loss: 0.5199 - learning_rate: 9.0000e-05\n",
      "Epoch 17/60\n",
      "\u001b[1m128/128\u001b[0m \u001b[32m━━━━━━━━━━━━━━━━━━━━\u001b[0m\u001b[37m\u001b[0m \u001b[1m128s\u001b[0m 947ms/step - accuracy: 0.9692 - loss: 0.4734 - val_accuracy: 0.9508 - val_loss: 0.4968 - learning_rate: 9.0000e-05\n",
      "Epoch 18/60\n",
      "\u001b[1m128/128\u001b[0m \u001b[32m━━━━━━━━━━━━━━━━━━━━\u001b[0m\u001b[37m\u001b[0m \u001b[1m127s\u001b[0m 941ms/step - accuracy: 0.9764 - loss: 0.4655 - val_accuracy: 0.9538 - val_loss: 0.5061 - learning_rate: 9.0000e-05\n",
      "Epoch 19/60\n",
      "\u001b[1m128/128\u001b[0m \u001b[32m━━━━━━━━━━━━━━━━━━━━\u001b[0m\u001b[37m\u001b[0m \u001b[1m128s\u001b[0m 953ms/step - accuracy: 0.9823 - loss: 0.4504 - val_accuracy: 0.9538 - val_loss: 0.5051 - learning_rate: 9.0000e-05\n",
      "Epoch 20/60\n",
      "\u001b[1m128/128\u001b[0m \u001b[32m━━━━━━━━━━━━━━━━━━━━\u001b[0m\u001b[37m\u001b[0m \u001b[1m127s\u001b[0m 944ms/step - accuracy: 0.9753 - loss: 0.4580 - val_accuracy: 0.9577 - val_loss: 0.4991 - learning_rate: 9.0000e-05\n",
      "Epoch 21/60\n",
      "\u001b[1m128/128\u001b[0m \u001b[32m━━━━━━━━━━━━━━━━━━━━\u001b[0m\u001b[37m\u001b[0m \u001b[1m126s\u001b[0m 938ms/step - accuracy: 0.9745 - loss: 0.4535 - val_accuracy: 0.9459 - val_loss: 0.5281 - learning_rate: 9.0000e-05\n",
      "Epoch 22/60\n",
      "\u001b[1m128/128\u001b[0m \u001b[32m━━━━━━━━━━━━━━━━━━━━\u001b[0m\u001b[37m\u001b[0m \u001b[1m128s\u001b[0m 952ms/step - accuracy: 0.9836 - loss: 0.4427 - val_accuracy: 0.9597 - val_loss: 0.4944 - learning_rate: 2.7000e-05\n",
      "Epoch 23/60\n",
      "\u001b[1m128/128\u001b[0m \u001b[32m━━━━━━━━━━━━━━━━━━━━\u001b[0m\u001b[37m\u001b[0m \u001b[1m128s\u001b[0m 954ms/step - accuracy: 0.9845 - loss: 0.4421 - val_accuracy: 0.9558 - val_loss: 0.4964 - learning_rate: 2.7000e-05\n",
      "Epoch 24/60\n",
      "\u001b[1m128/128\u001b[0m \u001b[32m━━━━━━━━━━━━━━━━━━━━\u001b[0m\u001b[37m\u001b[0m \u001b[1m130s\u001b[0m 963ms/step - accuracy: 0.9892 - loss: 0.4348 - val_accuracy: 0.9548 - val_loss: 0.4948 - learning_rate: 2.7000e-05\n",
      "Epoch 25/60\n",
      "\u001b[1m128/128\u001b[0m \u001b[32m━━━━━━━━━━━━━━━━━━━━\u001b[0m\u001b[37m\u001b[0m \u001b[1m130s\u001b[0m 966ms/step - accuracy: 0.9904 - loss: 0.4313 - val_accuracy: 0.9626 - val_loss: 0.4908 - learning_rate: 2.7000e-05\n",
      "Epoch 26/60\n",
      "\u001b[1m128/128\u001b[0m \u001b[32m━━━━━━━━━━━━━━━━━━━━\u001b[0m\u001b[37m\u001b[0m \u001b[1m129s\u001b[0m 959ms/step - accuracy: 0.9853 - loss: 0.4341 - val_accuracy: 0.9508 - val_loss: 0.5183 - learning_rate: 2.7000e-05\n",
      "Epoch 27/60\n",
      "\u001b[1m128/128\u001b[0m \u001b[32m━━━━━━━━━━━━━━━━━━━━\u001b[0m\u001b[37m\u001b[0m \u001b[1m128s\u001b[0m 947ms/step - accuracy: 0.9850 - loss: 0.4381 - val_accuracy: 0.9597 - val_loss: 0.4930 - learning_rate: 2.7000e-05\n",
      "Epoch 28/60\n",
      "\u001b[1m128/128\u001b[0m \u001b[32m━━━━━━━━━━━━━━━━━━━━\u001b[0m\u001b[37m\u001b[0m \u001b[1m129s\u001b[0m 953ms/step - accuracy: 0.9865 - loss: 0.4323 - val_accuracy: 0.9587 - val_loss: 0.4941 - learning_rate: 2.7000e-05\n",
      "Epoch 29/60\n",
      "\u001b[1m128/128\u001b[0m \u001b[32m━━━━━━━━━━━━━━━━━━━━\u001b[0m\u001b[37m\u001b[0m \u001b[1m127s\u001b[0m 943ms/step - accuracy: 0.9901 - loss: 0.4264 - val_accuracy: 0.9587 - val_loss: 0.4920 - learning_rate: 2.7000e-05\n",
      "Epoch 30/60\n",
      "\u001b[1m128/128\u001b[0m \u001b[32m━━━━━━━━━━━━━━━━━━━━\u001b[0m\u001b[37m\u001b[0m \u001b[1m128s\u001b[0m 955ms/step - accuracy: 0.9923 - loss: 0.4248 - val_accuracy: 0.9538 - val_loss: 0.4951 - learning_rate: 8.1000e-06\n",
      "Epoch 31/60\n",
      "\u001b[1m128/128\u001b[0m \u001b[32m━━━━━━━━━━━━━━━━━━━━\u001b[0m\u001b[37m\u001b[0m \u001b[1m128s\u001b[0m 954ms/step - accuracy: 0.9843 - loss: 0.4333 - val_accuracy: 0.9567 - val_loss: 0.4926 - learning_rate: 8.1000e-06\n",
      "Epoch 32/60\n",
      "\u001b[1m128/128\u001b[0m \u001b[32m━━━━━━━━━━━━━━━━━━━━\u001b[0m\u001b[37m\u001b[0m \u001b[1m129s\u001b[0m 954ms/step - accuracy: 0.9899 - loss: 0.4252 - val_accuracy: 0.9577 - val_loss: 0.4897 - learning_rate: 8.1000e-06\n",
      "Epoch 33/60\n",
      "\u001b[1m128/128\u001b[0m \u001b[32m━━━━━━━━━━━━━━━━━━━━\u001b[0m\u001b[37m\u001b[0m \u001b[1m129s\u001b[0m 955ms/step - accuracy: 0.9903 - loss: 0.4267 - val_accuracy: 0.9577 - val_loss: 0.4947 - learning_rate: 8.1000e-06\n",
      "Epoch 34/60\n",
      "\u001b[1m128/128\u001b[0m \u001b[32m━━━━━━━━━━━━━━━━━━━━\u001b[0m\u001b[37m\u001b[0m \u001b[1m129s\u001b[0m 959ms/step - accuracy: 0.9905 - loss: 0.4248 - val_accuracy: 0.9558 - val_loss: 0.4983 - learning_rate: 8.1000e-06\n",
      "Epoch 35/60\n",
      "\u001b[1m128/128\u001b[0m \u001b[32m━━━━━━━━━━━━━━━━━━━━\u001b[0m\u001b[37m\u001b[0m \u001b[1m130s\u001b[0m 965ms/step - accuracy: 0.9902 - loss: 0.4257 - val_accuracy: 0.9607 - val_loss: 0.4912 - learning_rate: 8.1000e-06\n",
      "Epoch 36/60\n",
      "\u001b[1m128/128\u001b[0m \u001b[32m━━━━━━━━━━━━━━━━━━━━\u001b[0m\u001b[37m\u001b[0m \u001b[1m128s\u001b[0m 959ms/step - accuracy: 0.9908 - loss: 0.4242 - val_accuracy: 0.9587 - val_loss: 0.4947 - learning_rate: 8.1000e-06\n",
      "Epoch 37/60\n",
      "\u001b[1m128/128\u001b[0m \u001b[32m━━━━━━━━━━━━━━━━━━━━\u001b[0m\u001b[37m\u001b[0m \u001b[1m130s\u001b[0m 966ms/step - accuracy: 0.9943 - loss: 0.4191 - val_accuracy: 0.9617 - val_loss: 0.4926 - learning_rate: 2.4300e-06\n",
      "Epoch 38/60\n",
      "\u001b[1m128/128\u001b[0m \u001b[32m━━━━━━━━━━━━━━━━━━━━\u001b[0m\u001b[37m\u001b[0m \u001b[1m129s\u001b[0m 957ms/step - accuracy: 0.9881 - loss: 0.4245 - val_accuracy: 0.9617 - val_loss: 0.4922 - learning_rate: 2.4300e-06\n",
      "Epoch 39/60\n",
      "\u001b[1m128/128\u001b[0m \u001b[32m━━━━━━━━━━━━━━━━━━━━\u001b[0m\u001b[37m\u001b[0m \u001b[1m129s\u001b[0m 961ms/step - accuracy: 0.9900 - loss: 0.4274 - val_accuracy: 0.9607 - val_loss: 0.4929 - learning_rate: 2.4300e-06\n",
      "Epoch 40/60\n",
      "\u001b[1m128/128\u001b[0m \u001b[32m━━━━━━━━━━━━━━━━━━━━\u001b[0m\u001b[37m\u001b[0m \u001b[1m129s\u001b[0m 954ms/step - accuracy: 0.9924 - loss: 0.4249 - val_accuracy: 0.9607 - val_loss: 0.4926 - learning_rate: 2.4300e-06\n",
      "Epoch 41/60\n",
      "\u001b[1m128/128\u001b[0m \u001b[32m━━━━━━━━━━━━━━━━━━━━\u001b[0m\u001b[37m\u001b[0m \u001b[1m126s\u001b[0m 938ms/step - accuracy: 0.9915 - loss: 0.4208 - val_accuracy: 0.9597 - val_loss: 0.4931 - learning_rate: 1.0000e-06\n",
      "Epoch 42/60\n",
      "\u001b[1m128/128\u001b[0m \u001b[32m━━━━━━━━━━━━━━━━━━━━\u001b[0m\u001b[37m\u001b[0m \u001b[1m129s\u001b[0m 960ms/step - accuracy: 0.9910 - loss: 0.4246 - val_accuracy: 0.9607 - val_loss: 0.4933 - learning_rate: 1.0000e-06\n"
     ]
    }
   ],
   "source": [
    "# ✅ STEP 8: Train Model\n",
    "callbacks = [\n",
    "    EarlyStopping(patience=10, restore_best_weights=True),\n",
    "    ReduceLROnPlateau(patience=4, factor=0.3, min_lr=1e-6)\n",
    "]\n",
    "\n",
    "history = model.fit(\n",
    "    train_data,\n",
    "    validation_data=val_data,\n",
    "    epochs=60,\n",
    "    callbacks=callbacks\n",
    ")"
   ]
  },
  {
   "cell_type": "code",
   "execution_count": 11,
   "metadata": {
    "execution": {
     "iopub.execute_input": "2025-04-14T08:28:39.256682Z",
     "iopub.status.busy": "2025-04-14T08:28:39.255986Z",
     "iopub.status.idle": "2025-04-14T08:30:46.268237Z",
     "shell.execute_reply": "2025-04-14T08:30:46.267456Z",
     "shell.execute_reply.started": "2025-04-14T08:28:39.256660Z"
    },
    "trusted": true
   },
   "outputs": [
    {
     "name": "stdout",
     "output_type": "stream",
     "text": [
      "\u001b[1m128/128\u001b[0m \u001b[32m━━━━━━━━━━━━━━━━━━━━\u001b[0m\u001b[37m\u001b[0m \u001b[1m116s\u001b[0m 904ms/step - accuracy: 0.9992 - loss: 0.3986\n",
      "\u001b[1m32/32\u001b[0m \u001b[32m━━━━━━━━━━━━━━━━━━━━\u001b[0m\u001b[37m\u001b[0m \u001b[1m9s\u001b[0m 278ms/step - accuracy: 0.9564 - loss: 0.4836\n",
      "Training Accuracy: 99.85%\n",
      "Validation Accuracy: 95.77%\n"
     ]
    }
   ],
   "source": [
    "# ✅ STEP 9: Evaluate\n",
    "train_loss, train_acc = model.evaluate(train_data)\n",
    "val_loss, val_acc = model.evaluate(val_data)\n",
    "print(f\"Training Accuracy: {train_acc * 100:.2f}%\")\n",
    "print(f\"Validation Accuracy: {val_acc * 100:.2f}%\")"
   ]
  },
  {
   "cell_type": "code",
   "execution_count": 12,
   "metadata": {
    "execution": {
     "iopub.execute_input": "2025-04-14T08:31:16.349015Z",
     "iopub.status.busy": "2025-04-14T08:31:16.348679Z",
     "iopub.status.idle": "2025-04-14T08:31:46.349356Z",
     "shell.execute_reply": "2025-04-14T08:31:46.348457Z",
     "shell.execute_reply.started": "2025-04-14T08:31:16.348986Z"
    },
    "trusted": true
   },
   "outputs": [
    {
     "name": "stdout",
     "output_type": "stream",
     "text": [
      "\u001b[1m32/32\u001b[0m \u001b[32m━━━━━━━━━━━━━━━━━━━━\u001b[0m\u001b[37m\u001b[0m \u001b[1m29s\u001b[0m 580ms/step\n",
      "\n",
      "Classification Report:\n",
      "              precision    recall  f1-score   support\n",
      "\n",
      "           0       0.95      0.88      0.91       204\n",
      "           1       0.90      0.95      0.92       203\n",
      "           2       0.94      0.96      0.95       203\n",
      "           3       1.00      1.00      1.00       204\n",
      "           4       1.00      1.00      1.00       203\n",
      "\n",
      "    accuracy                           0.96      1017\n",
      "   macro avg       0.96      0.96      0.96      1017\n",
      "weighted avg       0.96      0.96      0.96      1017\n",
      "\n"
     ]
    },
    {
     "data": {
      "image/png": "[encoded data removed]",
      "text/plain": [
       "<Figure size 600x500 with 2 Axes>"
      ]
     },
     "metadata": {},
     "output_type": "display_data"
    }
   ],
   "source": [
    "# ✅ STEP 10: Classification Report and Confusion Matrix\n",
    "y_true = val_data.classes\n",
    "y_pred = model.predict(val_data).argmax(axis=1)\n",
    "\n",
    "print(\"\\nClassification Report:\")\n",
    "print(classification_report(y_true, y_pred))\n",
    "\n",
    "cm = confusion_matrix(y_true, y_pred)\n",
    "plt.figure(figsize=(6,5))\n",
    "sns.heatmap(cm, annot=True, fmt='d', cmap='Blues')\n",
    "plt.title('Confusion Matrix')\n",
    "plt.xlabel('Predicted')\n",
    "plt.ylabel('Actual')\n",
    "plt.show()"
   ]
  },
  {
   "cell_type": "code",
   "execution_count": 13,
   "metadata": {
    "execution": {
     "iopub.execute_input": "2025-04-14T08:32:18.205249Z",
     "iopub.status.busy": "2025-04-14T08:32:18.204702Z",
     "iopub.status.idle": "2025-04-14T08:32:18.531800Z",
     "shell.execute_reply": "2025-04-14T08:32:18.530991Z",
     "shell.execute_reply.started": "2025-04-14T08:32:18.205223Z"
    },
    "trusted": true
   },
   "outputs": [
    {
     "data": {
      "image/png": "[encoded data removed]",
      "text/plain": [
       "<Figure size 1200x400 with 2 Axes>"
      ]
     },
     "metadata": {},
     "output_type": "display_data"
    }
   ],
   "source": [
    "# ✅ STEP 11: Accuracy & Loss Plots\n",
    "plt.figure(figsize=(12,4))\n",
    "plt.subplot(1, 2, 1)\n",
    "plt.plot(history.history['accuracy'], label='Train Acc')\n",
    "plt.plot(history.history['val_accuracy'], label='Val Acc')\n",
    "plt.title('Accuracy')\n",
    "plt.legend()\n",
    "\n",
    "plt.subplot(1, 2, 2)\n",
    "plt.plot(history.history['loss'], label='Train Loss')\n",
    "plt.plot(history.history['val_loss'], label='Val Loss')\n",
    "plt.title('Loss')\n",
    "plt.legend()\n",
    "\n",
    "plt.show()"
   ]
  }
 ],
 "metadata": {
  "kaggle": {
   "accelerator": "nvidiaTeslaT4",
   "dataSources": [
    {
     "datasetId": 7130487,
     "sourceId": 11386983,
     "sourceType": "datasetVersion"
    }
   ],
   "dockerImageVersionId": 31011,
   "isGpuEnabled": true,
   "isInternetEnabled": true,
   "language": "python",
   "sourceType": "notebook"
  },
  "kernelspec": {
   "display_name": "Python 3",
   "language": "python",
   "name": "python3"
  },
  "language_info": {
   "codemirror_mode": {
    "name": "ipython",
    "version": 3
   },
   "file_extension": ".py",
   "mimetype": "text/x-python",
   "name": "python",
   "nbconvert_exporter": "python",
   "pygments_lexer": "ipython3",
   "version": "3.11.11"
  }
 },
 "nbformat": 4,
 "nbformat_minor": 4
}
